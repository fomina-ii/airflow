{
 "cells": [
  {
   "cell_type": "markdown",
   "metadata": {},
   "source": [
    "## Airflow для решения аналитических задач.\n",
    "### Код возвращает DAG, который находит ответы на вопросы\n",
    "\n",
    "#### Файл, используемый для анализа - vgsales.csv\n",
    "#### Анализируемый год - 2015\n",
    "\n",
    "Вопросы:\n",
    "* Какая игра была самой продаваемой в этом году во всем мире?\n",
    "* Игры какого жанра были самыми продаваемыми в Европе?\n",
    "* На какой платформе было больше всего игр, которые продались более чем миллионным тиражом в Северной Америке?\n",
    "* У какого издателя самые высокие средние продажи в Японии?\n",
    "* Сколько игр продались лучше в Европе, чем в Японии?\n"
   ]
  },
  {
   "cell_type": "code",
   "execution_count": 1,
   "metadata": {},
   "outputs": [
    {
     "name": "stderr",
     "output_type": "stream",
     "text": [
      "/opt/tljh/user/lib/python3.7/site-packages/requests/__init__.py:91: RequestsDependencyWarning: urllib3 (1.26.14) or chardet (3.0.4) doesn't match a supported version!\n",
      "  RequestsDependencyWarning)\n"
     ]
    }
   ],
   "source": [
    "import requests\n",
    "from zipfile import ZipFile\n",
    "from io import BytesIO\n",
    "import pandas as pd\n",
    "import numpy as np\n",
    "from datetime import timedelta\n",
    "from datetime import datetime\n",
    "from io import StringIO\n",
    "\n",
    "from airflow.decorators import dag, task\n",
    "from airflow.operators.python import get_current_context\n",
    "from airflow.models import Variable"
   ]
  },
  {
   "cell_type": "code",
   "execution_count": 2,
   "metadata": {},
   "outputs": [],
   "source": [
    "# path = '/var/lib/airflow/airflow.git/dags/a.batalov/vgsales.csv'\n",
    "path = 'vgsales.csv'"
   ]
  },
  {
   "cell_type": "code",
   "execution_count": 3,
   "metadata": {},
   "outputs": [],
   "source": [
    "vgsales = pd.read_csv(path)"
   ]
  },
  {
   "cell_type": "code",
   "execution_count": 4,
   "metadata": {},
   "outputs": [],
   "source": [
    "year = 1994 + hash('i-fomina-27') % 23"
   ]
  },
  {
   "cell_type": "code",
   "execution_count": 5,
   "metadata": {},
   "outputs": [],
   "source": [
    "vgsales_2015 = vgsales.query(f'Year == {year}').reset_index().drop(columns='index', axis=1)"
   ]
  },
  {
   "cell_type": "code",
   "execution_count": null,
   "metadata": {},
   "outputs": [],
   "source": []
  },
  {
   "cell_type": "markdown",
   "metadata": {},
   "source": [
    "### Какая игра была самой продаваемой в 2015 году во всем мире?"
   ]
  },
  {
   "cell_type": "code",
   "execution_count": 19,
   "metadata": {},
   "outputs": [],
   "source": [
    "popular_game = vgsales_2015.groupby('Name', as_index=False) \\\n",
    "                            .agg({'Global_Sales': 'sum'})\\\n",
    "                            .sort_values('Global_Sales', ascending=False) \\\n",
    "                            .head(1).reset_index().drop(columns='index', axis=1)"
   ]
  },
  {
   "cell_type": "code",
   "execution_count": 25,
   "metadata": {},
   "outputs": [
    {
     "name": "stdout",
     "output_type": "stream",
     "text": [
      "Самой продаваемой игрой во всем мире в 2015 году была игра \"Grand Theft Auto: Vice City\"\n"
     ]
    }
   ],
   "source": [
    "print(f'Самой продаваемой игрой во всем мире в 2015 году была игра \"{popular_game.Name[0]}\".')"
   ]
  },
  {
   "cell_type": "code",
   "execution_count": null,
   "metadata": {},
   "outputs": [],
   "source": []
  },
  {
   "cell_type": "markdown",
   "metadata": {},
   "source": [
    "### Игры какого жанра были самыми продаваемыми в Европе?"
   ]
  },
  {
   "cell_type": "code",
   "execution_count": 38,
   "metadata": {},
   "outputs": [],
   "source": [
    "europe_genres = vgsales_2015.groupby('Genre', as_index=False) \\\n",
    "                            .agg({'EU_Sales': 'sum'}) \\\n",
    "                            .sort_values('EU_Sales', ascending=False)\n",
    "                            .head(1).reset_index().drop(columns='index', axis=1)"
   ]
  },
  {
   "cell_type": "code",
   "execution_count": 41,
   "metadata": {},
   "outputs": [
    {
     "name": "stdout",
     "output_type": "stream",
     "text": [
      "В 2015 году самыми продаваемыми были игры жанра \"Action\"\n"
     ]
    }
   ],
   "source": [
    "print(f'В 2015 году самыми продаваемыми были игры жанра \"{europe_genres.Genre[0]}\".')"
   ]
  },
  {
   "cell_type": "markdown",
   "metadata": {},
   "source": [
    "### На какой платформе было больше всего игр, которые продались более чем миллионным тиражом в Северной Америке?"
   ]
  },
  {
   "cell_type": "code",
   "execution_count": 49,
   "metadata": {},
   "outputs": [],
   "source": [
    "na_platform = vgsales_2015.query('NA_Sales > 1') \\\n",
    "                          .groupby('Platform', as_index=False) \\\n",
    "                          .agg({'NA_Sales': 'count'}) \\\n",
    "                          .sort_values('NA_Sales', ascending=False) \\\n",
    "                          .head(1).reset_index().drop(columns='index', axis=1)"
   ]
  },
  {
   "cell_type": "code",
   "execution_count": 59,
   "metadata": {},
   "outputs": [
    {
     "name": "stdout",
     "output_type": "stream",
     "text": [
      "В Северной Америке в 2015 году на платформе \"PS2\" было больше всего игр, которые продались более чем миллионным тиражом\n"
     ]
    }
   ],
   "source": [
    "print(f'В Северной Америке в 2015 году на платформе \"{na_platform.Platform[0]}\" было больше всего игр, которые продались более чем миллионным тиражом.')"
   ]
  },
  {
   "cell_type": "markdown",
   "metadata": {},
   "source": [
    "### У какого издателя самые высокие средние продажи в Японии?"
   ]
  },
  {
   "cell_type": "code",
   "execution_count": 55,
   "metadata": {},
   "outputs": [],
   "source": [
    "jp_avg_sales = vgsales_2015.groupby('Publisher', as_index=False) \\\n",
    "                           .agg({'JP_Sales': 'mean'}) \\\n",
    "                           .sort_values('JP_Sales', ascending=False) \\\n",
    "                           .head(1).reset_index().drop(columns='index', axis=1)"
   ]
  },
  {
   "cell_type": "code",
   "execution_count": 58,
   "metadata": {},
   "outputs": [
    {
     "name": "stdout",
     "output_type": "stream",
     "text": [
      "В Японии в 2015 году самые высокие средние продажи были у издателя \"Nintendo\"\n"
     ]
    }
   ],
   "source": [
    "print(f'В Японии в 2015 году самые высокие средние продажи были у издателя \"{jp_avg_sales.Publisher[0]}\".')"
   ]
  },
  {
   "cell_type": "markdown",
   "metadata": {},
   "source": [
    "### Сколько игр продались лучше в Европе, чем в Японии?"
   ]
  },
  {
   "cell_type": "code",
   "execution_count": 67,
   "metadata": {},
   "outputs": [],
   "source": [
    "eu_better_jp = vgsales_2015.groupby('Name', as_index=False) \\\n",
    "                           .agg({'EU_Sales': 'sum', 'JP_Sales': 'sum'}) \\\n",
    "                           .sort_values('EU_Sales', ascending=False) \\\n",
    "                           .query('EU_Sales > JP_Sales')"
   ]
  },
  {
   "cell_type": "code",
   "execution_count": 70,
   "metadata": {},
   "outputs": [
    {
     "data": {
      "text/plain": [
       "484"
      ]
     },
     "execution_count": 70,
     "metadata": {},
     "output_type": "execute_result"
    }
   ],
   "source": [
    "eu_better_jp.shape[0]"
   ]
  },
  {
   "cell_type": "code",
   "execution_count": 71,
   "metadata": {},
   "outputs": [
    {
     "name": "stdout",
     "output_type": "stream",
     "text": [
      "В 2015 году 484 игр продались в Европе лучше, чем в Японии\n"
     ]
    }
   ],
   "source": [
    "print(f'В 2015 году {eu_better_jp.shape[0]} игр продались в Европе лучше, чем в Японии.')"
   ]
  },
  {
   "cell_type": "code",
   "execution_count": null,
   "metadata": {},
   "outputs": [],
   "source": []
  },
  {
   "cell_type": "code",
   "execution_count": null,
   "metadata": {},
   "outputs": [],
   "source": [
    "import pandas as pd\n",
    "from datetime import timedelta\n",
    "from datetime import datetime\n",
    "\n",
    "from airflow.decorators import dag, task\n",
    "from airflow.operators.python import get_current_context\n",
    "from airflow.models import Variable\n",
    "\n",
    "\n",
    "path = '/var/lib/airflow/airflow.git/dags/a.batalov/vgsales.csv'\n",
    "year = 1994 + hash('i-fomina-27') % 23\n",
    "default_args = {'owner': 'a.batalov',\n",
    "                'depends_on_past': False,\n",
    "                'retries': 2,\n",
    "                'retry_delay': timedelta(minutes=5),\n",
    "                'start_date': datetime(2021, 2, 24)}\n",
    "\n",
    "\n",
    "@dag(default_args=default_args, schedule_interval='0 12 * * *', catchup=False)\n",
    "def fomina_vgsales():\n",
    "    @task(retries=3)\n",
    "    def get_data():\n",
    "        vgsales_2015 = vgsales.query(f'Year == {year}').reset_index().drop(columns='index', axis=1)\n",
    "        return vgsales_2015\n",
    "\n",
    "    @task(retries=3)\n",
    "    def get_popular_game(vgsales_2015):\n",
    "        popular_game = vgsales_2015.groupby('Name', as_index=False) \\\n",
    "                                   .agg({'Global_Sales': 'sum'})\\\n",
    "                                   .sort_values('Global_Sales', ascending=False) \\\n",
    "                                   .head(1).reset_index().drop(columns='index', axis=1)\n",
    "        return popular_game\n",
    "\n",
    "    @task(retries=3)\n",
    "    def get_europe_genres(vgsales_2015):\n",
    "        europe_genres = vgsales_2015.groupby('Genre', as_index=False) \\\n",
    "                                    .agg({'EU_Sales': 'sum'}) \\\n",
    "                                    .sort_values('EU_Sales', ascending=False) \\\n",
    "                                    .head(1).reset_index().drop(columns='index', axis=1)\n",
    "        return europe_genres\n",
    "\n",
    "    @task(retries=3)\n",
    "    def get_na_platform(vgsales_2015):\n",
    "        na_platform = vgsales_2015.query('NA_Sales > 1') \\\n",
    "                          .groupby('Platform', as_index=False) \\\n",
    "                          .agg({'NA_Sales': 'count'}) \\\n",
    "                          .sort_values('NA_Sales', ascending=False) \\\n",
    "                          .head(1).reset_index().drop(columns='index', axis=1)\n",
    "        return na_platform\n",
    "\n",
    "    @task(retries=3)\n",
    "    def get_jp_avg_sales(vgsales_2015):\n",
    "        jp_avg_sales = vgsales_2015.groupby('Publisher', as_index=False) \\\n",
    "                           .agg({'JP_Sales': 'mean'}) \\\n",
    "                           .sort_values('JP_Sales', ascending=False) \\\n",
    "                           .head(1).reset_index().drop(columns='index', axis=1)\n",
    "        return jp_avg_sales\n",
    "\n",
    "    \n",
    "    @task(retries=3)\n",
    "    def get_eu_better_jp(vgsales_2015):\n",
    "        eu_better_jp = vgsales_2015.groupby('Name', as_index=False) \\\n",
    "                           .agg({'EU_Sales': 'sum', 'JP_Sales': 'sum'}) \\\n",
    "                           .sort_values('EU_Sales', ascending=False) \\\n",
    "                           .query('EU_Sales > JP_Sales')\n",
    "        return eu_better_jp\n",
    "\n",
    "    @task(retries=3)\n",
    "    def print_data(a, b, c, d, e):\n",
    "        print(f'Самой продаваемой игрой во всем мире в 2015 году была игра \"{popular_game.Name[0]}\".')\n",
    "        print(f'\\nВ 2015 году самыми продаваемыми были игры жанра \"{europe_genres.Genre[0]}\".')\n",
    "        print(f'\\nВ Северной Америке в 2015 году на платформе \"{na_platform.Platform[0]}\" было больше всего игр, которые продались более чем миллионным тиражом.')\n",
    "        print(f'\\nВ Японии в 2015 году самые высокие средние продажи были у издателя \"{jp_avg_sales.Publisher[0]}\".')\n",
    "        print(f'\\nВ 2015 году {eu_better_jp.shape[0]} игр продались в Европе лучше, чем в Японии.')\n",
    "        \n",
    "\n",
    "    vgsales_2015 = get_data()\n",
    "    popular_game = get_popular_game(vgsales_2015)\n",
    "    europe_genre = get_europe_genres(vgsales_2015)\n",
    "    na_platform  = get_na_platform(vgsales_2015)\n",
    "    jp_avg_sales = get_jp_avg_sales(vgsales_2015)\n",
    "    eu_better_jp = get_eu_better_jp(vgsales_2015)\n",
    "\n",
    "    print_data(popular_game, europe_genre, na_platform, jp_avg_sales, eu_better_jp)\n",
    "    \n",
    "my_dag = fomina_vgsales()"
   ]
  },
  {
   "cell_type": "code",
   "execution_count": null,
   "metadata": {},
   "outputs": [],
   "source": []
  },
  {
   "cell_type": "code",
   "execution_count": null,
   "metadata": {},
   "outputs": [],
   "source": []
  },
  {
   "cell_type": "code",
   "execution_count": null,
   "metadata": {},
   "outputs": [],
   "source": []
  }
 ],
 "metadata": {
  "kernelspec": {
   "display_name": "Python 3",
   "language": "python",
   "name": "python3"
  },
  "language_info": {
   "codemirror_mode": {
    "name": "ipython",
    "version": 3
   },
   "file_extension": ".py",
   "mimetype": "text/x-python",
   "name": "python",
   "nbconvert_exporter": "python",
   "pygments_lexer": "ipython3",
   "version": "3.7.3"
  }
 },
 "nbformat": 4,
 "nbformat_minor": 4
}
